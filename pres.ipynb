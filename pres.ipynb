{
 "cells": [
  {
   "cell_type": "markdown",
   "metadata": {},
   "source": [
    "# **P**rincipal **C**omponent **A**nalysis (dt. Hauptkomponentenanalyse)\n",
    "\n",
    "The code is based on a video digression by Leonid Grau from the Linear Algebra Module in WiSe 2021/22 at KIT. Credits to him.\n",
    "\n",
    "Iris flower data set: R. A. Fisher ([CSV on GitHub](https://gist.github.com/netj/8836201))"
   ]
  },
  {
   "cell_type": "markdown",
   "metadata": {},
   "source": [
    "\n",
    "## Code\n",
    "\n",
    "Import modules"
   ]
  },
  {
   "cell_type": "code",
   "execution_count": 1,
   "metadata": {},
   "outputs": [],
   "source": [
    "from sklearn.decomposition import PCA\n",
    "from sklearn.preprocessing import StandardScaler\n",
    "import pandas as pd\n",
    "import seaborn as sns\n",
    "import matplotlib.pyplot as plt\n",
    "import numpy as np"
   ]
  },
  {
   "cell_type": "markdown",
   "metadata": {},
   "source": [
    "Import data"
   ]
  },
  {
   "cell_type": "code",
   "execution_count": 2,
   "metadata": {},
   "outputs": [
    {
     "data": {
      "text/html": [
       "<div>\n",
       "<style scoped>\n",
       "    .dataframe tbody tr th:only-of-type {\n",
       "        vertical-align: middle;\n",
       "    }\n",
       "\n",
       "    .dataframe tbody tr th {\n",
       "        vertical-align: top;\n",
       "    }\n",
       "\n",
       "    .dataframe thead th {\n",
       "        text-align: right;\n",
       "    }\n",
       "</style>\n",
       "<table border=\"1\" class=\"dataframe\">\n",
       "  <thead>\n",
       "    <tr style=\"text-align: right;\">\n",
       "      <th></th>\n",
       "      <th>sepal.length</th>\n",
       "      <th>sepal.width</th>\n",
       "      <th>petal.length</th>\n",
       "      <th>petal.width</th>\n",
       "    </tr>\n",
       "  </thead>\n",
       "  <tbody>\n",
       "    <tr>\n",
       "      <th>count</th>\n",
       "      <td>150.00</td>\n",
       "      <td>150.00</td>\n",
       "      <td>150.00</td>\n",
       "      <td>150.00</td>\n",
       "    </tr>\n",
       "    <tr>\n",
       "      <th>mean</th>\n",
       "      <td>5.84</td>\n",
       "      <td>3.06</td>\n",
       "      <td>3.76</td>\n",
       "      <td>1.20</td>\n",
       "    </tr>\n",
       "    <tr>\n",
       "      <th>std</th>\n",
       "      <td>0.83</td>\n",
       "      <td>0.44</td>\n",
       "      <td>1.77</td>\n",
       "      <td>0.76</td>\n",
       "    </tr>\n",
       "    <tr>\n",
       "      <th>min</th>\n",
       "      <td>4.30</td>\n",
       "      <td>2.00</td>\n",
       "      <td>1.00</td>\n",
       "      <td>0.10</td>\n",
       "    </tr>\n",
       "    <tr>\n",
       "      <th>25%</th>\n",
       "      <td>5.10</td>\n",
       "      <td>2.80</td>\n",
       "      <td>1.60</td>\n",
       "      <td>0.30</td>\n",
       "    </tr>\n",
       "    <tr>\n",
       "      <th>50%</th>\n",
       "      <td>5.80</td>\n",
       "      <td>3.00</td>\n",
       "      <td>4.35</td>\n",
       "      <td>1.30</td>\n",
       "    </tr>\n",
       "    <tr>\n",
       "      <th>75%</th>\n",
       "      <td>6.40</td>\n",
       "      <td>3.30</td>\n",
       "      <td>5.10</td>\n",
       "      <td>1.80</td>\n",
       "    </tr>\n",
       "    <tr>\n",
       "      <th>max</th>\n",
       "      <td>7.90</td>\n",
       "      <td>4.40</td>\n",
       "      <td>6.90</td>\n",
       "      <td>2.50</td>\n",
       "    </tr>\n",
       "  </tbody>\n",
       "</table>\n",
       "</div>"
      ],
      "text/plain": [
       "       sepal.length  sepal.width  petal.length  petal.width\n",
       "count        150.00       150.00        150.00       150.00\n",
       "mean           5.84         3.06          3.76         1.20\n",
       "std            0.83         0.44          1.77         0.76\n",
       "min            4.30         2.00          1.00         0.10\n",
       "25%            5.10         2.80          1.60         0.30\n",
       "50%            5.80         3.00          4.35         1.30\n",
       "75%            6.40         3.30          5.10         1.80\n",
       "max            7.90         4.40          6.90         2.50"
      ]
     },
     "execution_count": 2,
     "metadata": {},
     "output_type": "execute_result"
    }
   ],
   "source": [
    "iris = pd.read_csv(\"iris.csv\")\n",
    "\n",
    "iris_data = iris[\n",
    "    [\n",
    "        \"sepal.length\",\n",
    "        \"sepal.width\",\n",
    "        \"petal.length\",\n",
    "        \"petal.width\"\n",
    "    ]\n",
    "].values\n",
    "\n",
    "np.around(iris.describe(), decimals=2)"
   ]
  },
  {
   "cell_type": "markdown",
   "metadata": {},
   "source": [
    "Standardize data"
   ]
  },
  {
   "cell_type": "code",
   "execution_count": 3,
   "metadata": {},
   "outputs": [],
   "source": [
    "iris_data_normalized = StandardScaler().fit_transform(iris_data)\n",
    "varieties = iris.variety.tolist() # extract labels"
   ]
  },
  {
   "cell_type": "markdown",
   "metadata": {},
   "source": [
    "Run PCA"
   ]
  },
  {
   "cell_type": "code",
   "execution_count": 4,
   "metadata": {},
   "outputs": [],
   "source": [
    "pca = PCA(n_components=4)\n",
    "iris_pca = pca.fit_transform(iris_data_normalized)"
   ]
  },
  {
   "cell_type": "markdown",
   "metadata": {},
   "source": [
    "### Output\n",
    "\n",
    "Console ouput"
   ]
  },
  {
   "cell_type": "code",
   "execution_count": 5,
   "metadata": {},
   "outputs": [
    {
     "name": "stdout",
     "output_type": "stream",
     "text": [
      "Covariance matrix:\n",
      " [[ 1.007 -0.118  0.878  0.823]\n",
      " [-0.118  1.007 -0.431 -0.369]\n",
      " [ 0.878 -0.431  1.007  0.969]\n",
      " [ 0.823 -0.369  0.969  1.007]]\n",
      "Components:\n",
      " [[ 0.52 -0.27  0.58  0.56]\n",
      " [ 0.38  0.92  0.02  0.07]\n",
      " [-0.72  0.24  0.14  0.63]\n",
      " [-0.26  0.12  0.8  -0.52]]\n",
      "Explained variance (diagonal entries):\n",
      " [2.93808505 0.9201649  0.14774182 0.02085386]\n",
      "Explained variance ratio (adds up to 1):\n",
      " [0.72962445 0.22850762 0.03668922 0.00517871]\n"
     ]
    }
   ],
   "source": [
    "print(\"Covariance matrix:\\n\", np.around(np.array(pca.get_covariance()), decimals=3))\n",
    "print(\"Components:\\n\", np.around(np.array(pca.components_), decimals=2))\n",
    "print(\"Explained variance (diagonal entries):\\n\", pca.explained_variance_)\n",
    "print(\"Explained variance ratio (adds up to 1):\\n\", pca.explained_variance_ratio_)\n"
   ]
  },
  {
   "cell_type": "markdown",
   "metadata": {},
   "source": [
    "Scatter Plot\n"
   ]
  },
  {
   "cell_type": "code",
   "execution_count": 6,
   "metadata": {},
   "outputs": [
    {
     "data": {
      "text/plain": [
       "<AxesSubplot:xlabel='PC1', ylabel='PC2'>"
      ]
     },
     "execution_count": 6,
     "metadata": {},
     "output_type": "execute_result"
    },
    {
     "data": {
      "image/png": "[encoded data removed]",
      "text/plain": [
       "<Figure size 864x720 with 1 Axes>"
      ]
     },
     "metadata": {
      "needs_background": "light"
     },
     "output_type": "display_data"
    }
   ],
   "source": [
    "# prepare DataFrame\n",
    "pc_df = pd.DataFrame(data=iris_pca, columns=[\"PC1\", \"PC2\", \"PC3\", \"PC4\"])\n",
    "pc_df[\"Variety\"] = varieties\n",
    "\n",
    "# plot\n",
    "plt.figure(figsize=(12, 10))\n",
    "iris_plot = sns.scatterplot(x=\"PC1\", y=\"PC2\", data=pc_df, hue=\"Variety\", s=100)\n",
    "iris_plot"
   ]
  },
  {
   "cell_type": "markdown",
   "metadata": {},
   "source": [
    "> From here on you need to have `plotly` installed\n",
    "\n",
    "Plot scatter matrix to see clusters in the various principal components"
   ]
  },
  {
   "cell_type": "code",
   "execution_count": 7,
   "metadata": {},
   "outputs": [
    {
     "data": {
      "application/vnd.plotly.v1+json": {
       "config": {
        "plotlyServerURL": "https://plot.ly"
       },
       "data": [
        {
         "diagonal": {
          "visible": false
         },
         "dimensions": [
          {
           "axis": {
            "matches": true
           },
           "label": "PC 1 (73.0%)",
           "values": [
            -2.2647028088075913,
            -2.0809611519657687,
            -2.3642290538903006,
            -2.299384217042709,
            -2.3898421663138447,
            -2.075630948176511,
            -2.444028835134153,
            -2.232847158872015,
            -2.3346404779076226,
            -2.1843281749339423,
            -2.166310100701322,
            -2.326130866442699,
            -2.2184508988224096,
            -2.6331006957652288,
            -2.198740603266689,
            -2.2622145316010194,
            -2.2075876958245915,
            -2.190349509192298,
            -1.8985719958028409,
            -2.3433690530749924,
            -1.9143229960825674,
            -2.207012843194798,
            -2.774344702927333,
            -1.8186695286958492,
            -2.2271633057066387,
            -1.951846330900376,
            -2.0511513727294157,
            -2.1685771746542164,
            -2.1395634513013313,
            -2.2652614931542416,
            -2.1401221356479847,
            -1.8315947706760276,
            -2.614947935858934,
            -2.4461773916965135,
            -2.109974875318653,
            -2.207808899078266,
            -2.045146206754201,
            -2.527331913170486,
            -2.4296325750845473,
            -2.169710711630663,
            -2.2864751433456703,
            -1.8581224563735723,
            -2.5536383956143567,
            -1.9644476837637408,
            -2.1370590058116226,
            -2.06974429959183,
            -2.384733165778262,
            -2.3943763142196337,
            -2.229446547942674,
            -2.2038334355191305
           ]
          },
          {
           "axis": {
            "matches": true
           },
           "label": "PC 2 (22.9%)",
           "values": [
            0.4800265965209894,
            -0.6741335566053529,
            -0.3419080238846755,
            -0.597394507674675,
            0.6468353829020276,
            1.4891775233211673,
            0.04764419763001492,
            0.223148072689592,
            -1.1153276754616654,
            -0.4690135614023753,
            1.0436906530538599,
            0.1330783352392321,
            -0.7286761653165704,
            -0.961506729170162,
            1.8600571132939305,
            2.686284485110592,
            1.4836093631555727,
            0.48883831648632786,
            1.4050187944665489,
            1.1278493819084765,
            0.4088557077559061,
            0.9241214267468989,
            0.45834366775291613,
            0.08555852628736638,
            0.13725445536342784,
            -0.6256185877766764,
            0.24216355266166742,
            0.5271495253082678,
            0.3132178101399518,
            -0.3377319037604799,
            -0.5045406901415178,
            0.4236950676037857,
            1.793575856104429,
            2.150727877392924,
            -0.46020184143703696,
            -0.20610739768843675,
            0.6615581114631081,
            0.5922927741908102,
            -0.9041800403761473,
            0.2688789614354711,
            0.4417153876990506,
            -2.3374151575533477,
            -0.47910069012231316,
            0.47232666771926146,
            1.1422292620394092,
            -0.7110527253858936,
            1.1204297019845366,
            -0.38624687258915646,
            0.9979597643079805,
            0.009216357521276525
           ]
          },
          {
           "axis": {
            "matches": true
           },
           "label": "PC 3 (3.7%)",
           "values": [
            -0.12770602230015557,
            -0.23460885398456857,
            0.0442014848387447,
            0.09129010632068232,
            0.015738195676258483,
            0.026968294439781385,
            0.33547040114311377,
            -0.08869549794772662,
            0.14507686363699976,
            -0.2537655673000065,
            -0.26868110221613506,
            0.09375924438111154,
            -0.23091123720660264,
            0.18079608440317915,
            -0.47290099787307766,
            0.0305266092655102,
            -0.005344094078264686,
            -0.04421531647845402,
            -0.37434327455765476,
            0.13263046678130205,
            -0.4212925940873568,
            0.1598652772262525,
            0.33217909755686564,
            0.0344885957999809,
            0.11799353576964619,
            -0.30564098232520787,
            0.08636401082518198,
            -0.2068162477703049,
            -0.2711502402765648,
            0.06843577622727812,
            -0.07500844174913303,
            -0.2704673767029827,
            0.0472284186684859,
            -0.08266804506156837,
            -0.17027486147830823,
            -0.22544158008975737,
            -0.48453740982831756,
            0.019435812454223083,
            0.1932546618842366,
            -0.1758838205473894,
            0.03489490899169739,
            -0.20423422253096524,
            0.3057664526377331,
            0.3096013178453274,
            0.24843356112104653,
            -0.06392982556320573,
            0.05721785808911497,
            0.13946790456791885,
            -0.1814927796164713,
            -0.1530294904539863
           ]
          },
          {
           "axis": {
            "matches": true
           },
           "label": "PC 4 (0.5%)",
           "values": [
            -0.0241682038554767,
            -0.103006774771625,
            -0.028377053438399916,
            0.06595555957632931,
            0.03592281329292602,
            -0.006608180219166217,
            0.036775557192921256,
            0.0246120961956659,
            0.026859220787865824,
            0.03989928773347203,
            -0.016731367184997584,
            0.13348341339521486,
            -0.0024250381425514355,
            0.019215533556608686,
            -0.194731769456413,
            -0.05053373734817078,
            -0.18881743207350216,
            -0.09309043836656869,
            -0.06109596709244531,
            0.03775641968828159,
            -0.010921286349096043,
            -0.059597329853230664,
            -0.019648430089480418,
            -0.15114099855884142,
            0.270140352285967,
            -0.043561650962438365,
            -0.06768005986293069,
            -0.010275393009876864,
            -0.08425922100388311,
            0.10827988545235309,
            0.048188868303948654,
            -0.23987038129844448,
            0.2292359316837456,
            0.04821439288554648,
            -0.029022946777618103,
            -0.1689078727559305,
            -0.19635852529099204,
            0.1365045499219984,
            0.009738422854704061,
            -0.007047405922316341,
            -0.10698324921217034,
            -0.28986391898732317,
            0.06660145291554824,
            -0.17709301385468917,
            0.15104343703152764,
            -0.14026950716473194,
            0.15223096716295603,
            0.04883476164316753,
            0.014928134932985029,
            -0.049371731798340285
           ]
          }
         ],
         "hovertemplate": "color=Setosa<br>%{xaxis.title.text}=%{x}<br>%{yaxis.title.text}=%{y}<extra></extra>",
         "legendgroup": "Setosa",
         "marker": {
          "color": "#636efa",
          "symbol": "circle"
         },
         "name": "Setosa",
         "showlegend": true,
         "type": "splom"
        },
        {
         "diagonal": {
          "visible": false
         },
         "dimensions": [
          {
           "axis": {
            "matches": true
           },
           "label": "PC 1 (73.0%)",
           "values": [
            1.1017811830529491,
            0.731337425396088,
            1.2409793195158318,
            0.40748305881738434,
            1.0754747006090788,
            0.3886873365356645,
            0.7465297413291613,
            -0.487322742125641,
            0.9279016383549457,
            0.011426188736979207,
            -0.11019628000063038,
            0.4406934489830783,
            0.5621083064431784,
            0.7195618886754965,
            -0.03335470317877249,
            0.8754071908577388,
            0.35025166799508245,
            0.15881004754797104,
            1.2250936335624312,
            0.16491789938632687,
            0.7376826487712583,
            0.47628719094097144,
            1.2341780976571493,
            0.6328581997098217,
            0.7026611831361826,
            0.8742736538812911,
            1.2565091165418838,
            1.3584051214406325,
            0.6648003672253947,
            -0.04025861090059588,
            0.13079517549785985,
            0.023452688970550122,
            0.24153827295451058,
            1.0610946088426136,
            0.2239787735123793,
            0.42913911551616096,
            1.0487280512090886,
            1.0445313843962787,
            0.0695883211164227,
            0.28347723828757465,
            0.27907777605546,
            0.6245697914985715,
            0.33653037013143533,
            -0.3621833846193845,
            0.2885862388231569,
            0.09136065565450503,
            0.22771686553469966,
            0.5763882886534788,
            -0.4476670190286126,
            0.2567305888875843
           ]
          },
          {
           "axis": {
            "matches": true
           },
           "label": "PC 2 (22.9%)",
           "values": [
            0.8629724182621578,
            0.5946147256694242,
            0.6162976544374973,
            -1.7544039893234107,
            -0.20842104605096617,
            -0.593283635990075,
            0.7730193120985963,
            -1.8524290868575735,
            0.03222607789115294,
            -1.03401827512944,
            -2.654072818536564,
            -0.06329518843800142,
            -1.7647243806169455,
            -0.18622460583150593,
            -0.4390032099816245,
            0.5090639567734075,
            -0.19631173455144352,
            -0.7920957424327214,
            -1.6222438030915018,
            -1.3026092302957728,
            0.3965715619602391,
            -0.41732028121355147,
            -0.9333257287992789,
            -0.41638772088909975,
            -0.06341181972480074,
            0.2507933929006112,
            -0.07725601969587004,
            0.3313116817908973,
            -0.2259278546948437,
            -1.0587185465539086,
            -1.5622718342099673,
            -1.5724755942167044,
            -0.7772563825848419,
            -0.6338432447349469,
            -0.28777351204320156,
            0.8455822409050786,
            0.5220517968629417,
            -1.3829887191907821,
            -0.21950333464771463,
            -1.329324639069576,
            -1.1200285237424032,
            0.02492302925401251,
            -0.9884040176703601,
            -2.019237873238611,
            -0.8557303199870662,
            -0.18119212582577507,
            -0.3849200809873536,
            -0.1548735972165592,
            -1.5437920343977556,
            -0.5988517961556693
           ]
          },
          {
           "axis": {
            "matches": true
           },
           "label": "PC 3 (3.7%)",
           "values": [
            -0.6845861626897369,
            -0.09412171552908234,
            -0.5540068353861005,
            -0.023101767813801743,
            -0.39825552250622676,
            0.12419154951817037,
            0.14896940252805105,
            0.2492652657892495,
            -0.5961693613725386,
            0.5388993901843678,
            -0.04679044405838318,
            0.2050738153272027,
            -0.7657713936539614,
            -0.06865894542301242,
            0.19493289332897865,
            -0.5035113816560303,
            0.49087307451472756,
            -0.3020371744413822,
            -0.48230402409723794,
            -0.1728378084328766,
            0.6165263063228639,
            -0.26495222652803974,
            -0.3684122720486101,
            -0.2918962524431577,
            -0.4460270075617472,
            -0.47257895443311465,
            -0.727155001867892,
            -0.26082657679061394,
            0.0858638887393261,
            -0.3195733299955366,
            -0.14998347833947348,
            -0.24155228129068354,
            -0.1512119570570083,
            0.10531138658459739,
            0.6652497197140537,
            0.45063407144476564,
            -0.39578638444579717,
            -0.688295960093061,
            0.29157927435328446,
            0.0894100229396948,
            0.09448760101279055,
            -0.0204811471757757,
            -0.199389755304245,
            0.1058210478128384,
            0.13088968535255147,
            0.12897834306143377,
            0.15621315350638404,
            -0.2716503623624206,
            0.19040093039983602,
            0.09187916100012426
           ]
          },
          {
           "axis": {
            "matches": true
           },
           "label": "PC 4 (0.5%)",
           "values": [
            -0.034833775523220284,
            -0.004903623253584405,
            -0.009423397019582261,
            -0.06576883526128104,
            -0.10473687252967132,
            0.2408313004727848,
            0.07736978531089805,
            0.04052020526521784,
            0.02987960940494905,
            0.028461183739680266,
            -0.013760731047284574,
            -0.04012608161526866,
            -0.045731157348344244,
            0.16480719844735528,
            -0.10904849905106706,
            -0.10494372309044735,
            0.19150936362943097,
            0.2052977350033149,
            -0.22589976932184033,
            0.05172684874017733,
            0.08328412269380889,
            -0.11356827281706514,
            0.00994452550578,
            0.2742201524391137,
            -0.043458325249838343,
            -0.10171573600288684,
            -0.03968851844536005,
            -0.0668280638726361,
            0.036439840127079064,
            -0.06478815569062907,
            0.009402522864153372,
            0.03277244441165983,
            -0.023651359946033616,
            0.18396845333664877,
            0.25482836786539564,
            0.10967518076809912,
            -0.0372090187107856,
            -0.13683560035080397,
            0.14714458079727513,
            -0.008905805200436785,
            0.270657196195412,
            0.14768640051419304,
            -0.006530562012871604,
            -0.019570811883186545,
            0.10740234866959326,
            0.22995962615396717,
            0.13260587661245474,
            0.019860678986126507,
            -0.19994645734216696,
            0.05862204861844838
           ]
          }
         ],
         "hovertemplate": "color=Versicolor<br>%{xaxis.title.text}=%{x}<br>%{yaxis.title.text}=%{y}<extra></extra>",
         "legendgroup": "Versicolor",
         "marker": {
          "color": "#EF553B",
          "symbol": "circle"
         },
         "name": "Versicolor",
         "showlegend": true,
         "type": "splom"
        },
        {
         "diagonal": {
          "visible": false
         },
         "dimensions": [
          {
           "axis": {
            "matches": true
           },
           "label": "PC 1 (73.0%)",
           "values": [
            1.8445688677230294,
            1.1578816132057792,
            2.205266791075379,
            1.4401506638275396,
            1.8678122203305378,
            2.751873335666278,
            0.3670176878607232,
            2.3024394446251977,
            2.006686467676606,
            2.2597773490125017,
            1.3641754921860088,
            1.6026786704779306,
            1.8839007017032434,
            1.2601150991975072,
            1.4676452010173238,
            1.5900773176145664,
            1.4714314611333188,
            2.426328987315703,
            3.3106955839338883,
            1.2637666736398274,
            2.037716301469405,
            0.977980734249421,
            2.89765149073417,
            1.3332321759732093,
            1.700733897491218,
            1.954326705853072,
            1.1751036315549326,
            1.0209505506957912,
            1.7883499201796658,
            1.863647553328262,
            2.435953727922705,
            2.304927721831767,
            1.8627032197949556,
            1.1141477406864748,
            1.2024733016783904,
            2.7987704475781094,
            1.5762559101947546,
            1.3462921036270623,
            0.9248249165424194,
            1.8520450517676708,
            2.0148104299548764,
            1.9017840902621899,
            1.1578816132057792,
            2.040558228052093,
            1.9981470959523773,
            1.8705032929564114,
            1.564580483030328,
            1.5211704996278383,
            1.372787789514073,
            0.9606560300371276
           ]
          },
          {
           "axis": {
            "matches": true
           },
           "label": "PC 2 (22.9%)",
           "values": [
            0.8704213123248233,
            -0.69886986233069,
            0.5620104770083546,
            -0.046987588105806714,
            0.29504482445701957,
            0.8004092010275405,
            -1.561502891476505,
            0.42006557964277497,
            -0.7114386535471594,
            1.9210103764598858,
            0.6927564544903867,
            -0.4217004497726176,
            0.419249650605123,
            -1.1622604214064631,
            -0.44227158737708216,
            0.67624480572332,
            0.2556218244714702,
            2.556661250795491,
            0.01778094932062553,
            -1.7067453803762678,
            0.9104674096183101,
            -0.5717643248129912,
            0.41364105959564607,
            -0.4818112186494297,
            1.013921867322791,
            1.0077775961534512,
            -0.31639447230979134,
            0.06434602923956186,
            -0.18736121459082908,
            0.5622907258861433,
            0.2592844331442788,
            2.626323468232377,
            -0.1785494946254907,
            -0.2929226233357317,
            -0.8113152708396686,
            0.8568033294971037,
            1.0685811073208076,
            0.42243061085250816,
            0.017223100452284243,
            0.6761281744365206,
            0.6138856369235746,
            0.6895754942430016,
            -0.69886986233069,
            0.8675206009552278,
            1.0491687471841447,
            0.3869660816657249,
            -0.8966868088965267,
            0.2690691442779513,
            1.011254418526793,
            -0.024331668169399034
           ]
          },
          {
           "axis": {
            "matches": true
           },
           "label": "PC 3 (3.7%)",
           "values": [
            1.0054010176069872,
            0.5301601492490192,
            -0.2029141697368687,
            0.1636301068300587,
            0.3956283745532975,
            -0.5823091028286044,
            0.9868932674720255,
            -0.6517064392599929,
            -0.39399057081656436,
            0.39755189746977404,
            0.28461207375681635,
            0.023186407910062563,
            0.026338409544074768,
            0.5802492897873729,
            1.0038695737342598,
            0.6384287080805976,
            0.03743125987796889,
            -0.12788145946307225,
            -0.7033053039033296,
            -0.2675368932503537,
            0.23479948360032757,
            0.8281272013877694,
            -0.8574218248739517,
            -0.005428363830018048,
            0.2984506125330053,
            -0.4199847219186199,
            0.12993775701688126,
            0.33771596749955296,
            0.2706580063187422,
            -0.7156341185745365,
            -0.7278161456737297,
            -0.49347380769433064,
            0.3541487121404408,
            -0.1834883916593426,
            -0.1647237573876534,
            -0.542906499432429,
            0.9458538186439905,
            0.18087547785438007,
            0.41682619296970447,
            -0.012672114808351925,
            0.42833284211509276,
            0.1300750054465103,
            0.5301601492490192,
            0.33814400045901416,
            0.6324134358197991,
            0.25627385239859996,
            -0.026371351632304696,
            0.18017838013283133,
            0.9333952411629318,
            0.5282488069579019
           ]
          },
          {
           "axis": {
            "matches": true
           },
           "label": "PC 4 (0.5%)",
           "values": [
            0.049249743237678036,
            0.04052075403934302,
            -0.059184193716670254,
            0.2357700728392855,
            0.01629827151654948,
            0.10138448643850574,
            0.13312383428101676,
            0.2380412424045498,
            0.08651063017283547,
            -0.1048389177693136,
            -0.10786042014551402,
            -0.05833163274138357,
            -0.1464149392170594,
            -0.09915732137819316,
            -0.27565890348568645,
            -0.1918629956336342,
            0.15533027067015867,
            0.27380718301639356,
            -0.04518860593259308,
            0.06518079973204488,
            -0.16795125436921002,
            -0.027755587132528244,
            0.12733650173435335,
            -0.13995914796664669,
            0.061643733919357256,
            0.2183383507230462,
            -0.12542044378182682,
            0.00865440136058439,
            -0.03108764784239014,
            0.20821516375721438,
            0.01792336481788633,
            0.2116757089118575,
            -0.1000098823534805,
            0.186343696524214,
            0.4894834700283453,
            -0.29588104951957783,
            -0.03560575907514573,
            0.21542128781856315,
            -0.005238409485017702,
            -0.1951952392682038,
            -0.24753831263834175,
            -0.4696966471811367,
            0.04052075403934302,
            -0.0451871263240593,
            -0.21404520412500389,
            -0.3892568450120096,
            -0.22019209957499716,
            -0.11917113724277395,
            -0.02612864837324093,
            0.16307803152371683
           ]
          }
         ],
         "hovertemplate": "color=Virginica<br>%{xaxis.title.text}=%{x}<br>%{yaxis.title.text}=%{y}<extra></extra>",
         "legendgroup": "Virginica",
         "marker": {
          "color": "#00cc96",
          "symbol": "circle"
         },
         "name": "Virginica",
         "showlegend": true,
         "type": "splom"
        }
       ],
       "layout": {
        "dragmode": "select",
        "legend": {
         "title": {
          "text": "color"
         },
         "tracegroupgap": 0
        },
        "margin": {
         "t": 60
        },
        "template": {
         "data": {
          "bar": [
           {
            "error_x": {
             "color": "#2a3f5f"
            },
            "error_y": {
             "color": "#2a3f5f"
            },
            "marker": {
             "line": {
              "color": "#E5ECF6",
              "width": 0.5
             },
             "pattern": {
              "fillmode": "overlay",
              "size": 10,
              "solidity": 0.2
             }
            },
            "type": "bar"
           }
          ],
          "barpolar": [
           {
            "marker": {
             "line": {
              "color": "#E5ECF6",
              "width": 0.5
             },
             "pattern": {
              "fillmode": "overlay",
              "size": 10,
              "solidity": 0.2
             }
            },
            "type": "barpolar"
           }
          ],
          "carpet": [
           {
            "aaxis": {
             "endlinecolor": "#2a3f5f",
             "gridcolor": "white",
             "linecolor": "white",
             "minorgridcolor": "white",
             "startlinecolor": "#2a3f5f"
            },
            "baxis": {
             "endlinecolor": "#2a3f5f",
             "gridcolor": "white",
             "linecolor": "white",
             "minorgridcolor": "white",
             "startlinecolor": "#2a3f5f"
            },
            "type": "carpet"
           }
          ],
          "choropleth": [
           {
            "colorbar": {
             "outlinewidth": 0,
             "ticks": ""
            },
            "type": "choropleth"
           }
          ],
          "contour": [
           {
            "colorbar": {
             "outlinewidth": 0,
             "ticks": ""
            },
            "colorscale": [
             [
              0,
              "#0d0887"
             ],
             [
              0.1111111111111111,
              "#46039f"
             ],
             [
              0.2222222222222222,
              "#7201a8"
             ],
             [
              0.3333333333333333,
              "#9c179e"
             ],
             [
              0.4444444444444444,
              "#bd3786"
             ],
             [
              0.5555555555555556,
              "#d8576b"
             ],
             [
              0.6666666666666666,
              "#ed7953"
             ],
             [
              0.7777777777777778,
              "#fb9f3a"
             ],
             [
              0.8888888888888888,
              "#fdca26"
             ],
             [
              1,
              "#f0f921"
             ]
            ],
            "type": "contour"
           }
          ],
          "contourcarpet": [
           {
            "colorbar": {
             "outlinewidth": 0,
             "ticks": ""
            },
            "type": "contourcarpet"
           }
          ],
          "heatmap": [
           {
            "colorbar": {
             "outlinewidth": 0,
             "ticks": ""
            },
            "colorscale": [
             [
              0,
              "#0d0887"
             ],
             [
              0.1111111111111111,
              "#46039f"
             ],
             [
              0.2222222222222222,
              "#7201a8"
             ],
             [
              0.3333333333333333,
              "#9c179e"
             ],
             [
              0.4444444444444444,
              "#bd3786"
             ],
             [
              0.5555555555555556,
              "#d8576b"
             ],
             [
              0.6666666666666666,
              "#ed7953"
             ],
             [
              0.7777777777777778,
              "#fb9f3a"
             ],
             [
              0.8888888888888888,
              "#fdca26"
             ],
             [
              1,
              "#f0f921"
             ]
            ],
            "type": "heatmap"
           }
          ],
          "heatmapgl": [
           {
            "colorbar": {
             "outlinewidth": 0,
             "ticks": ""
            },
            "colorscale": [
             [
              0,
              "#0d0887"
             ],
             [
              0.1111111111111111,
              "#46039f"
             ],
             [
              0.2222222222222222,
              "#7201a8"
             ],
             [
              0.3333333333333333,
              "#9c179e"
             ],
             [
              0.4444444444444444,
              "#bd3786"
             ],
             [
              0.5555555555555556,
              "#d8576b"
             ],
             [
              0.6666666666666666,
              "#ed7953"
             ],
             [
              0.7777777777777778,
              "#fb9f3a"
             ],
             [
              0.8888888888888888,
              "#fdca26"
             ],
             [
              1,
              "#f0f921"
             ]
            ],
            "type": "heatmapgl"
           }
          ],
          "histogram": [
           {
            "marker": {
             "pattern": {
              "fillmode": "overlay",
              "size": 10,
              "solidity": 0.2
             }
            },
            "type": "histogram"
           }
          ],
          "histogram2d": [
           {
            "colorbar": {
             "outlinewidth": 0,
             "ticks": ""
            },
            "colorscale": [
             [
              0,
              "#0d0887"
             ],
             [
              0.1111111111111111,
              "#46039f"
             ],
             [
              0.2222222222222222,
              "#7201a8"
             ],
             [
              0.3333333333333333,
              "#9c179e"
             ],
             [
              0.4444444444444444,
              "#bd3786"
             ],
             [
              0.5555555555555556,
              "#d8576b"
             ],
             [
              0.6666666666666666,
              "#ed7953"
             ],
             [
              0.7777777777777778,
              "#fb9f3a"
             ],
             [
              0.8888888888888888,
              "#fdca26"
             ],
             [
              1,
              "#f0f921"
             ]
            ],
            "type": "histogram2d"
           }
          ],
          "histogram2dcontour": [
           {
            "colorbar": {
             "outlinewidth": 0,
             "ticks": ""
            },
            "colorscale": [
             [
              0,
              "#0d0887"
             ],
             [
              0.1111111111111111,
              "#46039f"
             ],
             [
              0.2222222222222222,
              "#7201a8"
             ],
             [
              0.3333333333333333,
              "#9c179e"
             ],
             [
              0.4444444444444444,
              "#bd3786"
             ],
             [
              0.5555555555555556,
              "#d8576b"
             ],
             [
              0.6666666666666666,
              "#ed7953"
             ],
             [
              0.7777777777777778,
              "#fb9f3a"
             ],
             [
              0.8888888888888888,
              "#fdca26"
             ],
             [
              1,
              "#f0f921"
             ]
            ],
            "type": "histogram2dcontour"
           }
          ],
          "mesh3d": [
           {
            "colorbar": {
             "outlinewidth": 0,
             "ticks": ""
            },
            "type": "mesh3d"
           }
          ],
          "parcoords": [
           {
            "line": {
             "colorbar": {
              "outlinewidth": 0,
              "ticks": ""
             }
            },
            "type": "parcoords"
           }
          ],
          "pie": [
           {
            "automargin": true,
            "type": "pie"
           }
          ],
          "scatter": [
           {
            "marker": {
             "colorbar": {
              "outlinewidth": 0,
              "ticks": ""
             }
            },
            "type": "scatter"
           }
          ],
          "scatter3d": [
           {
            "line": {
             "colorbar": {
              "outlinewidth": 0,
              "ticks": ""
             }
            },
            "marker": {
             "colorbar": {
              "outlinewidth": 0,
              "ticks": ""
             }
            },
            "type": "scatter3d"
           }
          ],
          "scattercarpet": [
           {
            "marker": {
             "colorbar": {
              "outlinewidth": 0,
              "ticks": ""
             }
            },
            "type": "scattercarpet"
           }
          ],
          "scattergeo": [
           {
            "marker": {
             "colorbar": {
              "outlinewidth": 0,
              "ticks": ""
             }
            },
            "type": "scattergeo"
           }
          ],
          "scattergl": [
           {
            "marker": {
             "colorbar": {
              "outlinewidth": 0,
              "ticks": ""
             }
            },
            "type": "scattergl"
           }
          ],
          "scattermapbox": [
           {
            "marker": {
             "colorbar": {
              "outlinewidth": 0,
              "ticks": ""
             }
            },
            "type": "scattermapbox"
           }
          ],
          "scatterpolar": [
           {
            "marker": {
             "colorbar": {
              "outlinewidth": 0,
              "ticks": ""
             }
            },
            "type": "scatterpolar"
           }
          ],
          "scatterpolargl": [
           {
            "marker": {
             "colorbar": {
              "outlinewidth": 0,
              "ticks": ""
             }
            },
            "type": "scatterpolargl"
           }
          ],
          "scatterternary": [
           {
            "marker": {
             "colorbar": {
              "outlinewidth": 0,
              "ticks": ""
             }
            },
            "type": "scatterternary"
           }
          ],
          "surface": [
           {
            "colorbar": {
             "outlinewidth": 0,
             "ticks": ""
            },
            "colorscale": [
             [
              0,
              "#0d0887"
             ],
             [
              0.1111111111111111,
              "#46039f"
             ],
             [
              0.2222222222222222,
              "#7201a8"
             ],
             [
              0.3333333333333333,
              "#9c179e"
             ],
             [
              0.4444444444444444,
              "#bd3786"
             ],
             [
              0.5555555555555556,
              "#d8576b"
             ],
             [
              0.6666666666666666,
              "#ed7953"
             ],
             [
              0.7777777777777778,
              "#fb9f3a"
             ],
             [
              0.8888888888888888,
              "#fdca26"
             ],
             [
              1,
              "#f0f921"
             ]
            ],
            "type": "surface"
           }
          ],
          "table": [
           {
            "cells": {
             "fill": {
              "color": "#EBF0F8"
             },
             "line": {
              "color": "white"
             }
            },
            "header": {
             "fill": {
              "color": "#C8D4E3"
             },
             "line": {
              "color": "white"
             }
            },
            "type": "table"
           }
          ]
         },
         "layout": {
          "annotationdefaults": {
           "arrowcolor": "#2a3f5f",
           "arrowhead": 0,
           "arrowwidth": 1
          },
          "autotypenumbers": "strict",
          "coloraxis": {
           "colorbar": {
            "outlinewidth": 0,
            "ticks": ""
           }
          },
          "colorscale": {
           "diverging": [
            [
             0,
             "#8e0152"
            ],
            [
             0.1,
             "#c51b7d"
            ],
            [
             0.2,
             "#de77ae"
            ],
            [
             0.3,
             "#f1b6da"
            ],
            [
             0.4,
             "#fde0ef"
            ],
            [
             0.5,
             "#f7f7f7"
            ],
            [
             0.6,
             "#e6f5d0"
            ],
            [
             0.7,
             "#b8e186"
            ],
            [
             0.8,
             "#7fbc41"
            ],
            [
             0.9,
             "#4d9221"
            ],
            [
             1,
             "#276419"
            ]
           ],
           "sequential": [
            [
             0,
             "#0d0887"
            ],
            [
             0.1111111111111111,
             "#46039f"
            ],
            [
             0.2222222222222222,
             "#7201a8"
            ],
            [
             0.3333333333333333,
             "#9c179e"
            ],
            [
             0.4444444444444444,
             "#bd3786"
            ],
            [
             0.5555555555555556,
             "#d8576b"
            ],
            [
             0.6666666666666666,
             "#ed7953"
            ],
            [
             0.7777777777777778,
             "#fb9f3a"
            ],
            [
             0.8888888888888888,
             "#fdca26"
            ],
            [
             1,
             "#f0f921"
            ]
           ],
           "sequentialminus": [
            [
             0,
             "#0d0887"
            ],
            [
             0.1111111111111111,
             "#46039f"
            ],
            [
             0.2222222222222222,
             "#7201a8"
            ],
            [
             0.3333333333333333,
             "#9c179e"
            ],
            [
             0.4444444444444444,
             "#bd3786"
            ],
            [
             0.5555555555555556,
             "#d8576b"
            ],
            [
             0.6666666666666666,
             "#ed7953"
            ],
            [
             0.7777777777777778,
             "#fb9f3a"
            ],
            [
             0.8888888888888888,
             "#fdca26"
            ],
            [
             1,
             "#f0f921"
            ]
           ]
          },
          "colorway": [
           "#636efa",
           "#EF553B",
           "#00cc96",
           "#ab63fa",
           "#FFA15A",
           "#19d3f3",
           "#FF6692",
           "#B6E880",
           "#FF97FF",
           "#FECB52"
          ],
          "font": {
           "color": "#2a3f5f"
          },
          "geo": {
           "bgcolor": "white",
           "lakecolor": "white",
           "landcolor": "#E5ECF6",
           "showlakes": true,
           "showland": true,
           "subunitcolor": "white"
          },
          "hoverlabel": {
           "align": "left"
          },
          "hovermode": "closest",
          "mapbox": {
           "style": "light"
          },
          "paper_bgcolor": "white",
          "plot_bgcolor": "#E5ECF6",
          "polar": {
           "angularaxis": {
            "gridcolor": "white",
            "linecolor": "white",
            "ticks": ""
           },
           "bgcolor": "#E5ECF6",
           "radialaxis": {
            "gridcolor": "white",
            "linecolor": "white",
            "ticks": ""
           }
          },
          "scene": {
           "xaxis": {
            "backgroundcolor": "#E5ECF6",
            "gridcolor": "white",
            "gridwidth": 2,
            "linecolor": "white",
            "showbackground": true,
            "ticks": "",
            "zerolinecolor": "white"
           },
           "yaxis": {
            "backgroundcolor": "#E5ECF6",
            "gridcolor": "white",
            "gridwidth": 2,
            "linecolor": "white",
            "showbackground": true,
            "ticks": "",
            "zerolinecolor": "white"
           },
           "zaxis": {
            "backgroundcolor": "#E5ECF6",
            "gridcolor": "white",
            "gridwidth": 2,
            "linecolor": "white",
            "showbackground": true,
            "ticks": "",
            "zerolinecolor": "white"
           }
          },
          "shapedefaults": {
           "line": {
            "color": "#2a3f5f"
           }
          },
          "ternary": {
           "aaxis": {
            "gridcolor": "white",
            "linecolor": "white",
            "ticks": ""
           },
           "baxis": {
            "gridcolor": "white",
            "linecolor": "white",
            "ticks": ""
           },
           "bgcolor": "#E5ECF6",
           "caxis": {
            "gridcolor": "white",
            "linecolor": "white",
            "ticks": ""
           }
          },
          "title": {
           "x": 0.05
          },
          "xaxis": {
           "automargin": true,
           "gridcolor": "white",
           "linecolor": "white",
           "ticks": "",
           "title": {
            "standoff": 15
           },
           "zerolinecolor": "white",
           "zerolinewidth": 2
          },
          "yaxis": {
           "automargin": true,
           "gridcolor": "white",
           "linecolor": "white",
           "ticks": "",
           "title": {
            "standoff": 15
           },
           "zerolinecolor": "white",
           "zerolinewidth": 2
          }
         }
        }
       }
      }
     },
     "metadata": {},
     "output_type": "display_data"
    }
   ],
   "source": [
    "import plotly.express as px\n",
    "\n",
    "labels = {\n",
    "    str(i): f\"PC {i+1} ({var:.1f}%)\"\n",
    "    for i, var in enumerate(pca.explained_variance_ratio_ * 100)\n",
    "}\n",
    "\n",
    "fig = px.scatter_matrix(\n",
    "    iris_pca,\n",
    "    labels=labels,\n",
    "    dimensions=range(4),\n",
    "    color=pc_df[\"Variety\"]\n",
    ")\n",
    "\n",
    "fig.update_traces(diagonal_visible=False)\n",
    "\n",
    "fig"
   ]
  },
  {
   "cell_type": "markdown",
   "metadata": {},
   "source": [
    "Plot 'em in 3D! (the 3 best principal components)"
   ]
  },
  {
   "cell_type": "code",
   "execution_count": 8,
   "metadata": {},
   "outputs": [
    {
     "data": {
      "application/vnd.plotly.v1+json": {
       "config": {
        "plotlyServerURL": "https://plot.ly"
       },
       "data": [
        {
         "hovertemplate": "color=Setosa<br>PC 1=%{x}<br>PC 2=%{y}<br>PC 3=%{z}<extra></extra>",
         "legendgroup": "Setosa",
         "marker": {
          "color": "#636efa",
          "symbol": "circle"
         },
         "mode": "markers",
         "name": "Setosa",
         "scene": "scene",
         "showlegend": true,
         "type": "scatter3d",
         "x": [
          -2.2647028088075913,
          -2.0809611519657687,
          -2.3642290538903006,
          -2.299384217042709,
          -2.3898421663138447,
          -2.075630948176511,
          -2.444028835134153,
          -2.232847158872015,
          -2.3346404779076226,
          -2.1843281749339423,
          -2.166310100701322,
          -2.326130866442699,
          -2.2184508988224096,
          -2.6331006957652288,
          -2.198740603266689,
          -2.2622145316010194,
          -2.2075876958245915,
          -2.190349509192298,
          -1.8985719958028409,
          -2.3433690530749924,
          -1.9143229960825674,
          -2.207012843194798,
          -2.774344702927333,
          -1.8186695286958492,
          -2.2271633057066387,
          -1.951846330900376,
          -2.0511513727294157,
          -2.1685771746542164,
          -2.1395634513013313,
          -2.2652614931542416,
          -2.1401221356479847,
          -1.8315947706760276,
          -2.614947935858934,
          -2.4461773916965135,
          -2.109974875318653,
          -2.207808899078266,
          -2.045146206754201,
          -2.527331913170486,
          -2.4296325750845473,
          -2.169710711630663,
          -2.2864751433456703,
          -1.8581224563735723,
          -2.5536383956143567,
          -1.9644476837637408,
          -2.1370590058116226,
          -2.06974429959183,
          -2.384733165778262,
          -2.3943763142196337,
          -2.229446547942674,
          -2.2038334355191305
         ],
         "y": [
          0.4800265965209894,
          -0.6741335566053529,
          -0.3419080238846755,
          -0.597394507674675,
          0.6468353829020276,
          1.4891775233211673,
          0.04764419763001492,
          0.223148072689592,
          -1.1153276754616654,
          -0.4690135614023753,
          1.0436906530538599,
          0.1330783352392321,
          -0.7286761653165704,
          -0.961506729170162,
          1.8600571132939305,
          2.686284485110592,
          1.4836093631555727,
          0.48883831648632786,
          1.4050187944665489,
          1.1278493819084765,
          0.4088557077559061,
          0.9241214267468989,
          0.45834366775291613,
          0.08555852628736638,
          0.13725445536342784,
          -0.6256185877766764,
          0.24216355266166742,
          0.5271495253082678,
          0.3132178101399518,
          -0.3377319037604799,
          -0.5045406901415178,
          0.4236950676037857,
          1.793575856104429,
          2.150727877392924,
          -0.46020184143703696,
          -0.20610739768843675,
          0.6615581114631081,
          0.5922927741908102,
          -0.9041800403761473,
          0.2688789614354711,
          0.4417153876990506,
          -2.3374151575533477,
          -0.47910069012231316,
          0.47232666771926146,
          1.1422292620394092,
          -0.7110527253858936,
          1.1204297019845366,
          -0.38624687258915646,
          0.9979597643079805,
          0.009216357521276525
         ],
         "z": [
          -0.12770602230015557,
          -0.23460885398456857,
          0.0442014848387447,
          0.09129010632068232,
          0.015738195676258483,
          0.026968294439781385,
          0.33547040114311377,
          -0.08869549794772662,
          0.14507686363699976,
          -0.2537655673000065,
          -0.26868110221613506,
          0.09375924438111154,
          -0.23091123720660264,
          0.18079608440317915,
          -0.47290099787307766,
          0.0305266092655102,
          -0.005344094078264686,
          -0.04421531647845402,
          -0.37434327455765476,
          0.13263046678130205,
          -0.4212925940873568,
          0.1598652772262525,
          0.33217909755686564,
          0.0344885957999809,
          0.11799353576964619,
          -0.30564098232520787,
          0.08636401082518198,
          -0.2068162477703049,
          -0.2711502402765648,
          0.06843577622727812,
          -0.07500844174913303,
          -0.2704673767029827,
          0.0472284186684859,
          -0.08266804506156837,
          -0.17027486147830823,
          -0.22544158008975737,
          -0.48453740982831756,
          0.019435812454223083,
          0.1932546618842366,
          -0.1758838205473894,
          0.03489490899169739,
          -0.20423422253096524,
          0.3057664526377331,
          0.3096013178453274,
          0.24843356112104653,
          -0.06392982556320573,
          0.05721785808911497,
          0.13946790456791885,
          -0.1814927796164713,
          -0.1530294904539863
         ]
        },
        {
         "hovertemplate": "color=Versicolor<br>PC 1=%{x}<br>PC 2=%{y}<br>PC 3=%{z}<extra></extra>",
         "legendgroup": "Versicolor",
         "marker": {
          "color": "#EF553B",
          "symbol": "circle"
         },
         "mode": "markers",
         "name": "Versicolor",
         "scene": "scene",
         "showlegend": true,
         "type": "scatter3d",
         "x": [
          1.1017811830529491,
          0.731337425396088,
          1.2409793195158318,
          0.40748305881738434,
          1.0754747006090788,
          0.3886873365356645,
          0.7465297413291613,
          -0.487322742125641,
          0.9279016383549457,
          0.011426188736979207,
          -0.11019628000063038,
          0.4406934489830783,
          0.5621083064431784,
          0.7195618886754965,
          -0.03335470317877249,
          0.8754071908577388,
          0.35025166799508245,
          0.15881004754797104,
          1.2250936335624312,
          0.16491789938632687,
          0.7376826487712583,
          0.47628719094097144,
          1.2341780976571493,
          0.6328581997098217,
          0.7026611831361826,
          0.8742736538812911,
          1.2565091165418838,
          1.3584051214406325,
          0.6648003672253947,
          -0.04025861090059588,
          0.13079517549785985,
          0.023452688970550122,
          0.24153827295451058,
          1.0610946088426136,
          0.2239787735123793,
          0.42913911551616096,
          1.0487280512090886,
          1.0445313843962787,
          0.0695883211164227,
          0.28347723828757465,
          0.27907777605546,
          0.6245697914985715,
          0.33653037013143533,
          -0.3621833846193845,
          0.2885862388231569,
          0.09136065565450503,
          0.22771686553469966,
          0.5763882886534788,
          -0.4476670190286126,
          0.2567305888875843
         ],
         "y": [
          0.8629724182621578,
          0.5946147256694242,
          0.6162976544374973,
          -1.7544039893234107,
          -0.20842104605096617,
          -0.593283635990075,
          0.7730193120985963,
          -1.8524290868575735,
          0.03222607789115294,
          -1.03401827512944,
          -2.654072818536564,
          -0.06329518843800142,
          -1.7647243806169455,
          -0.18622460583150593,
          -0.4390032099816245,
          0.5090639567734075,
          -0.19631173455144352,
          -0.7920957424327214,
          -1.6222438030915018,
          -1.3026092302957728,
          0.3965715619602391,
          -0.41732028121355147,
          -0.9333257287992789,
          -0.41638772088909975,
          -0.06341181972480074,
          0.2507933929006112,
          -0.07725601969587004,
          0.3313116817908973,
          -0.2259278546948437,
          -1.0587185465539086,
          -1.5622718342099673,
          -1.5724755942167044,
          -0.7772563825848419,
          -0.6338432447349469,
          -0.28777351204320156,
          0.8455822409050786,
          0.5220517968629417,
          -1.3829887191907821,
          -0.21950333464771463,
          -1.329324639069576,
          -1.1200285237424032,
          0.02492302925401251,
          -0.9884040176703601,
          -2.019237873238611,
          -0.8557303199870662,
          -0.18119212582577507,
          -0.3849200809873536,
          -0.1548735972165592,
          -1.5437920343977556,
          -0.5988517961556693
         ],
         "z": [
          -0.6845861626897369,
          -0.09412171552908234,
          -0.5540068353861005,
          -0.023101767813801743,
          -0.39825552250622676,
          0.12419154951817037,
          0.14896940252805105,
          0.2492652657892495,
          -0.5961693613725386,
          0.5388993901843678,
          -0.04679044405838318,
          0.2050738153272027,
          -0.7657713936539614,
          -0.06865894542301242,
          0.19493289332897865,
          -0.5035113816560303,
          0.49087307451472756,
          -0.3020371744413822,
          -0.48230402409723794,
          -0.1728378084328766,
          0.6165263063228639,
          -0.26495222652803974,
          -0.3684122720486101,
          -0.2918962524431577,
          -0.4460270075617472,
          -0.47257895443311465,
          -0.727155001867892,
          -0.26082657679061394,
          0.0858638887393261,
          -0.3195733299955366,
          -0.14998347833947348,
          -0.24155228129068354,
          -0.1512119570570083,
          0.10531138658459739,
          0.6652497197140537,
          0.45063407144476564,
          -0.39578638444579717,
          -0.688295960093061,
          0.29157927435328446,
          0.0894100229396948,
          0.09448760101279055,
          -0.0204811471757757,
          -0.199389755304245,
          0.1058210478128384,
          0.13088968535255147,
          0.12897834306143377,
          0.15621315350638404,
          -0.2716503623624206,
          0.19040093039983602,
          0.09187916100012426
         ]
        },
        {
         "hovertemplate": "color=Virginica<br>PC 1=%{x}<br>PC 2=%{y}<br>PC 3=%{z}<extra></extra>",
         "legendgroup": "Virginica",
         "marker": {
          "color": "#00cc96",
          "symbol": "circle"
         },
         "mode": "markers",
         "name": "Virginica",
         "scene": "scene",
         "showlegend": true,
         "type": "scatter3d",
         "x": [
          1.8445688677230294,
          1.1578816132057792,
          2.205266791075379,
          1.4401506638275396,
          1.8678122203305378,
          2.751873335666278,
          0.3670176878607232,
          2.3024394446251977,
          2.006686467676606,
          2.2597773490125017,
          1.3641754921860088,
          1.6026786704779306,
          1.8839007017032434,
          1.2601150991975072,
          1.4676452010173238,
          1.5900773176145664,
          1.4714314611333188,
          2.426328987315703,
          3.3106955839338883,
          1.2637666736398274,
          2.037716301469405,
          0.977980734249421,
          2.89765149073417,
          1.3332321759732093,
          1.700733897491218,
          1.954326705853072,
          1.1751036315549326,
          1.0209505506957912,
          1.7883499201796658,
          1.863647553328262,
          2.435953727922705,
          2.304927721831767,
          1.8627032197949556,
          1.1141477406864748,
          1.2024733016783904,
          2.7987704475781094,
          1.5762559101947546,
          1.3462921036270623,
          0.9248249165424194,
          1.8520450517676708,
          2.0148104299548764,
          1.9017840902621899,
          1.1578816132057792,
          2.040558228052093,
          1.9981470959523773,
          1.8705032929564114,
          1.564580483030328,
          1.5211704996278383,
          1.372787789514073,
          0.9606560300371276
         ],
         "y": [
          0.8704213123248233,
          -0.69886986233069,
          0.5620104770083546,
          -0.046987588105806714,
          0.29504482445701957,
          0.8004092010275405,
          -1.561502891476505,
          0.42006557964277497,
          -0.7114386535471594,
          1.9210103764598858,
          0.6927564544903867,
          -0.4217004497726176,
          0.419249650605123,
          -1.1622604214064631,
          -0.44227158737708216,
          0.67624480572332,
          0.2556218244714702,
          2.556661250795491,
          0.01778094932062553,
          -1.7067453803762678,
          0.9104674096183101,
          -0.5717643248129912,
          0.41364105959564607,
          -0.4818112186494297,
          1.013921867322791,
          1.0077775961534512,
          -0.31639447230979134,
          0.06434602923956186,
          -0.18736121459082908,
          0.5622907258861433,
          0.2592844331442788,
          2.626323468232377,
          -0.1785494946254907,
          -0.2929226233357317,
          -0.8113152708396686,
          0.8568033294971037,
          1.0685811073208076,
          0.42243061085250816,
          0.017223100452284243,
          0.6761281744365206,
          0.6138856369235746,
          0.6895754942430016,
          -0.69886986233069,
          0.8675206009552278,
          1.0491687471841447,
          0.3869660816657249,
          -0.8966868088965267,
          0.2690691442779513,
          1.011254418526793,
          -0.024331668169399034
         ],
         "z": [
          1.0054010176069872,
          0.5301601492490192,
          -0.2029141697368687,
          0.1636301068300587,
          0.3956283745532975,
          -0.5823091028286044,
          0.9868932674720255,
          -0.6517064392599929,
          -0.39399057081656436,
          0.39755189746977404,
          0.28461207375681635,
          0.023186407910062563,
          0.026338409544074768,
          0.5802492897873729,
          1.0038695737342598,
          0.6384287080805976,
          0.03743125987796889,
          -0.12788145946307225,
          -0.7033053039033296,
          -0.2675368932503537,
          0.23479948360032757,
          0.8281272013877694,
          -0.8574218248739517,
          -0.005428363830018048,
          0.2984506125330053,
          -0.4199847219186199,
          0.12993775701688126,
          0.33771596749955296,
          0.2706580063187422,
          -0.7156341185745365,
          -0.7278161456737297,
          -0.49347380769433064,
          0.3541487121404408,
          -0.1834883916593426,
          -0.1647237573876534,
          -0.542906499432429,
          0.9458538186439905,
          0.18087547785438007,
          0.41682619296970447,
          -0.012672114808351925,
          0.42833284211509276,
          0.1300750054465103,
          0.5301601492490192,
          0.33814400045901416,
          0.6324134358197991,
          0.25627385239859996,
          -0.026371351632304696,
          0.18017838013283133,
          0.9333952411629318,
          0.5282488069579019
         ]
        }
       ],
       "layout": {
        "legend": {
         "title": {
          "text": "color"
         },
         "tracegroupgap": 0
        },
        "scene": {
         "domain": {
          "x": [
           0,
           1
          ],
          "y": [
           0,
           1
          ]
         },
         "xaxis": {
          "title": {
           "text": "PC 1"
          }
         },
         "yaxis": {
          "title": {
           "text": "PC 2"
          }
         },
         "zaxis": {
          "title": {
           "text": "PC 3"
          }
         }
        },
        "template": {
         "data": {
          "bar": [
           {
            "error_x": {
             "color": "#2a3f5f"
            },
            "error_y": {
             "color": "#2a3f5f"
            },
            "marker": {
             "line": {
              "color": "#E5ECF6",
              "width": 0.5
             },
             "pattern": {
              "fillmode": "overlay",
              "size": 10,
              "solidity": 0.2
             }
            },
            "type": "bar"
           }
          ],
          "barpolar": [
           {
            "marker": {
             "line": {
              "color": "#E5ECF6",
              "width": 0.5
             },
             "pattern": {
              "fillmode": "overlay",
              "size": 10,
              "solidity": 0.2
             }
            },
            "type": "barpolar"
           }
          ],
          "carpet": [
           {
            "aaxis": {
             "endlinecolor": "#2a3f5f",
             "gridcolor": "white",
             "linecolor": "white",
             "minorgridcolor": "white",
             "startlinecolor": "#2a3f5f"
            },
            "baxis": {
             "endlinecolor": "#2a3f5f",
             "gridcolor": "white",
             "linecolor": "white",
             "minorgridcolor": "white",
             "startlinecolor": "#2a3f5f"
            },
            "type": "carpet"
           }
          ],
          "choropleth": [
           {
            "colorbar": {
             "outlinewidth": 0,
             "ticks": ""
            },
            "type": "choropleth"
           }
          ],
          "contour": [
           {
            "colorbar": {
             "outlinewidth": 0,
             "ticks": ""
            },
            "colorscale": [
             [
              0,
              "#0d0887"
             ],
             [
              0.1111111111111111,
              "#46039f"
             ],
             [
              0.2222222222222222,
              "#7201a8"
             ],
             [
              0.3333333333333333,
              "#9c179e"
             ],
             [
              0.4444444444444444,
              "#bd3786"
             ],
             [
              0.5555555555555556,
              "#d8576b"
             ],
             [
              0.6666666666666666,
              "#ed7953"
             ],
             [
              0.7777777777777778,
              "#fb9f3a"
             ],
             [
              0.8888888888888888,
              "#fdca26"
             ],
             [
              1,
              "#f0f921"
             ]
            ],
            "type": "contour"
           }
          ],
          "contourcarpet": [
           {
            "colorbar": {
             "outlinewidth": 0,
             "ticks": ""
            },
            "type": "contourcarpet"
           }
          ],
          "heatmap": [
           {
            "colorbar": {
             "outlinewidth": 0,
             "ticks": ""
            },
            "colorscale": [
             [
              0,
              "#0d0887"
             ],
             [
              0.1111111111111111,
              "#46039f"
             ],
             [
              0.2222222222222222,
              "#7201a8"
             ],
             [
              0.3333333333333333,
              "#9c179e"
             ],
             [
              0.4444444444444444,
              "#bd3786"
             ],
             [
              0.5555555555555556,
              "#d8576b"
             ],
             [
              0.6666666666666666,
              "#ed7953"
             ],
             [
              0.7777777777777778,
              "#fb9f3a"
             ],
             [
              0.8888888888888888,
              "#fdca26"
             ],
             [
              1,
              "#f0f921"
             ]
            ],
            "type": "heatmap"
           }
          ],
          "heatmapgl": [
           {
            "colorbar": {
             "outlinewidth": 0,
             "ticks": ""
            },
            "colorscale": [
             [
              0,
              "#0d0887"
             ],
             [
              0.1111111111111111,
              "#46039f"
             ],
             [
              0.2222222222222222,
              "#7201a8"
             ],
             [
              0.3333333333333333,
              "#9c179e"
             ],
             [
              0.4444444444444444,
              "#bd3786"
             ],
             [
              0.5555555555555556,
              "#d8576b"
             ],
             [
              0.6666666666666666,
              "#ed7953"
             ],
             [
              0.7777777777777778,
              "#fb9f3a"
             ],
             [
              0.8888888888888888,
              "#fdca26"
             ],
             [
              1,
              "#f0f921"
             ]
            ],
            "type": "heatmapgl"
           }
          ],
          "histogram": [
           {
            "marker": {
             "pattern": {
              "fillmode": "overlay",
              "size": 10,
              "solidity": 0.2
             }
            },
            "type": "histogram"
           }
          ],
          "histogram2d": [
           {
            "colorbar": {
             "outlinewidth": 0,
             "ticks": ""
            },
            "colorscale": [
             [
              0,
              "#0d0887"
             ],
             [
              0.1111111111111111,
              "#46039f"
             ],
             [
              0.2222222222222222,
              "#7201a8"
             ],
             [
              0.3333333333333333,
              "#9c179e"
             ],
             [
              0.4444444444444444,
              "#bd3786"
             ],
             [
              0.5555555555555556,
              "#d8576b"
             ],
             [
              0.6666666666666666,
              "#ed7953"
             ],
             [
              0.7777777777777778,
              "#fb9f3a"
             ],
             [
              0.8888888888888888,
              "#fdca26"
             ],
             [
              1,
              "#f0f921"
             ]
            ],
            "type": "histogram2d"
           }
          ],
          "histogram2dcontour": [
           {
            "colorbar": {
             "outlinewidth": 0,
             "ticks": ""
            },
            "colorscale": [
             [
              0,
              "#0d0887"
             ],
             [
              0.1111111111111111,
              "#46039f"
             ],
             [
              0.2222222222222222,
              "#7201a8"
             ],
             [
              0.3333333333333333,
              "#9c179e"
             ],
             [
              0.4444444444444444,
              "#bd3786"
             ],
             [
              0.5555555555555556,
              "#d8576b"
             ],
             [
              0.6666666666666666,
              "#ed7953"
             ],
             [
              0.7777777777777778,
              "#fb9f3a"
             ],
             [
              0.8888888888888888,
              "#fdca26"
             ],
             [
              1,
              "#f0f921"
             ]
            ],
            "type": "histogram2dcontour"
           }
          ],
          "mesh3d": [
           {
            "colorbar": {
             "outlinewidth": 0,
             "ticks": ""
            },
            "type": "mesh3d"
           }
          ],
          "parcoords": [
           {
            "line": {
             "colorbar": {
              "outlinewidth": 0,
              "ticks": ""
             }
            },
            "type": "parcoords"
           }
          ],
          "pie": [
           {
            "automargin": true,
            "type": "pie"
           }
          ],
          "scatter": [
           {
            "marker": {
             "colorbar": {
              "outlinewidth": 0,
              "ticks": ""
             }
            },
            "type": "scatter"
           }
          ],
          "scatter3d": [
           {
            "line": {
             "colorbar": {
              "outlinewidth": 0,
              "ticks": ""
             }
            },
            "marker": {
             "colorbar": {
              "outlinewidth": 0,
              "ticks": ""
             }
            },
            "type": "scatter3d"
           }
          ],
          "scattercarpet": [
           {
            "marker": {
             "colorbar": {
              "outlinewidth": 0,
              "ticks": ""
             }
            },
            "type": "scattercarpet"
           }
          ],
          "scattergeo": [
           {
            "marker": {
             "colorbar": {
              "outlinewidth": 0,
              "ticks": ""
             }
            },
            "type": "scattergeo"
           }
          ],
          "scattergl": [
           {
            "marker": {
             "colorbar": {
              "outlinewidth": 0,
              "ticks": ""
             }
            },
            "type": "scattergl"
           }
          ],
          "scattermapbox": [
           {
            "marker": {
             "colorbar": {
              "outlinewidth": 0,
              "ticks": ""
             }
            },
            "type": "scattermapbox"
           }
          ],
          "scatterpolar": [
           {
            "marker": {
             "colorbar": {
              "outlinewidth": 0,
              "ticks": ""
             }
            },
            "type": "scatterpolar"
           }
          ],
          "scatterpolargl": [
           {
            "marker": {
             "colorbar": {
              "outlinewidth": 0,
              "ticks": ""
             }
            },
            "type": "scatterpolargl"
           }
          ],
          "scatterternary": [
           {
            "marker": {
             "colorbar": {
              "outlinewidth": 0,
              "ticks": ""
             }
            },
            "type": "scatterternary"
           }
          ],
          "surface": [
           {
            "colorbar": {
             "outlinewidth": 0,
             "ticks": ""
            },
            "colorscale": [
             [
              0,
              "#0d0887"
             ],
             [
              0.1111111111111111,
              "#46039f"
             ],
             [
              0.2222222222222222,
              "#7201a8"
             ],
             [
              0.3333333333333333,
              "#9c179e"
             ],
             [
              0.4444444444444444,
              "#bd3786"
             ],
             [
              0.5555555555555556,
              "#d8576b"
             ],
             [
              0.6666666666666666,
              "#ed7953"
             ],
             [
              0.7777777777777778,
              "#fb9f3a"
             ],
             [
              0.8888888888888888,
              "#fdca26"
             ],
             [
              1,
              "#f0f921"
             ]
            ],
            "type": "surface"
           }
          ],
          "table": [
           {
            "cells": {
             "fill": {
              "color": "#EBF0F8"
             },
             "line": {
              "color": "white"
             }
            },
            "header": {
             "fill": {
              "color": "#C8D4E3"
             },
             "line": {
              "color": "white"
             }
            },
            "type": "table"
           }
          ]
         },
         "layout": {
          "annotationdefaults": {
           "arrowcolor": "#2a3f5f",
           "arrowhead": 0,
           "arrowwidth": 1
          },
          "autotypenumbers": "strict",
          "coloraxis": {
           "colorbar": {
            "outlinewidth": 0,
            "ticks": ""
           }
          },
          "colorscale": {
           "diverging": [
            [
             0,
             "#8e0152"
            ],
            [
             0.1,
             "#c51b7d"
            ],
            [
             0.2,
             "#de77ae"
            ],
            [
             0.3,
             "#f1b6da"
            ],
            [
             0.4,
             "#fde0ef"
            ],
            [
             0.5,
             "#f7f7f7"
            ],
            [
             0.6,
             "#e6f5d0"
            ],
            [
             0.7,
             "#b8e186"
            ],
            [
             0.8,
             "#7fbc41"
            ],
            [
             0.9,
             "#4d9221"
            ],
            [
             1,
             "#276419"
            ]
           ],
           "sequential": [
            [
             0,
             "#0d0887"
            ],
            [
             0.1111111111111111,
             "#46039f"
            ],
            [
             0.2222222222222222,
             "#7201a8"
            ],
            [
             0.3333333333333333,
             "#9c179e"
            ],
            [
             0.4444444444444444,
             "#bd3786"
            ],
            [
             0.5555555555555556,
             "#d8576b"
            ],
            [
             0.6666666666666666,
             "#ed7953"
            ],
            [
             0.7777777777777778,
             "#fb9f3a"
            ],
            [
             0.8888888888888888,
             "#fdca26"
            ],
            [
             1,
             "#f0f921"
            ]
           ],
           "sequentialminus": [
            [
             0,
             "#0d0887"
            ],
            [
             0.1111111111111111,
             "#46039f"
            ],
            [
             0.2222222222222222,
             "#7201a8"
            ],
            [
             0.3333333333333333,
             "#9c179e"
            ],
            [
             0.4444444444444444,
             "#bd3786"
            ],
            [
             0.5555555555555556,
             "#d8576b"
            ],
            [
             0.6666666666666666,
             "#ed7953"
            ],
            [
             0.7777777777777778,
             "#fb9f3a"
            ],
            [
             0.8888888888888888,
             "#fdca26"
            ],
            [
             1,
             "#f0f921"
            ]
           ]
          },
          "colorway": [
           "#636efa",
           "#EF553B",
           "#00cc96",
           "#ab63fa",
           "#FFA15A",
           "#19d3f3",
           "#FF6692",
           "#B6E880",
           "#FF97FF",
           "#FECB52"
          ],
          "font": {
           "color": "#2a3f5f"
          },
          "geo": {
           "bgcolor": "white",
           "lakecolor": "white",
           "landcolor": "#E5ECF6",
           "showlakes": true,
           "showland": true,
           "subunitcolor": "white"
          },
          "hoverlabel": {
           "align": "left"
          },
          "hovermode": "closest",
          "mapbox": {
           "style": "light"
          },
          "paper_bgcolor": "white",
          "plot_bgcolor": "#E5ECF6",
          "polar": {
           "angularaxis": {
            "gridcolor": "white",
            "linecolor": "white",
            "ticks": ""
           },
           "bgcolor": "#E5ECF6",
           "radialaxis": {
            "gridcolor": "white",
            "linecolor": "white",
            "ticks": ""
           }
          },
          "scene": {
           "xaxis": {
            "backgroundcolor": "#E5ECF6",
            "gridcolor": "white",
            "gridwidth": 2,
            "linecolor": "white",
            "showbackground": true,
            "ticks": "",
            "zerolinecolor": "white"
           },
           "yaxis": {
            "backgroundcolor": "#E5ECF6",
            "gridcolor": "white",
            "gridwidth": 2,
            "linecolor": "white",
            "showbackground": true,
            "ticks": "",
            "zerolinecolor": "white"
           },
           "zaxis": {
            "backgroundcolor": "#E5ECF6",
            "gridcolor": "white",
            "gridwidth": 2,
            "linecolor": "white",
            "showbackground": true,
            "ticks": "",
            "zerolinecolor": "white"
           }
          },
          "shapedefaults": {
           "line": {
            "color": "#2a3f5f"
           }
          },
          "ternary": {
           "aaxis": {
            "gridcolor": "white",
            "linecolor": "white",
            "ticks": ""
           },
           "baxis": {
            "gridcolor": "white",
            "linecolor": "white",
            "ticks": ""
           },
           "bgcolor": "#E5ECF6",
           "caxis": {
            "gridcolor": "white",
            "linecolor": "white",
            "ticks": ""
           }
          },
          "title": {
           "x": 0.05
          },
          "xaxis": {
           "automargin": true,
           "gridcolor": "white",
           "linecolor": "white",
           "ticks": "",
           "title": {
            "standoff": 15
           },
           "zerolinecolor": "white",
           "zerolinewidth": 2
          },
          "yaxis": {
           "automargin": true,
           "gridcolor": "white",
           "linecolor": "white",
           "ticks": "",
           "title": {
            "standoff": 15
           },
           "zerolinecolor": "white",
           "zerolinewidth": 2
          }
         }
        },
        "title": {
         "text": "Total Explained Variance: 100.00%"
        }
       }
      }
     },
     "metadata": {},
     "output_type": "display_data"
    }
   ],
   "source": [
    "fig = px.scatter_3d(\n",
    "    iris_pca, x=0, y=1, z=2, color=pc_df['Variety'],\n",
    "    title=f'Total Explained Variance: {pca.explained_variance_ratio_.sum() * 100:.2f}%',\n",
    "    labels={'0': 'PC 1', '1': 'PC 2', '2': 'PC 3'}\n",
    ")\n",
    "\n",
    "fig"
   ]
  }
 ],
 "metadata": {
  "interpreter": {
   "hash": "b3ba2566441a7c06988d0923437866b63cedc61552a5af99d1f4fb67d367b25f"
  },
  "kernelspec": {
   "display_name": "Python 3.8.8 64-bit ('base': conda)",
   "language": "python",
   "name": "python3"
  },
  "language_info": {
   "codemirror_mode": {
    "name": "ipython",
    "version": 3
   },
   "file_extension": ".py",
   "mimetype": "text/x-python",
   "name": "python",
   "nbconvert_exporter": "python",
   "pygments_lexer": "ipython3",
   "version": "3.8.8"
  },
  "orig_nbformat": 4
 },
 "nbformat": 4,
 "nbformat_minor": 2
}
